{
 "cells": [
  {
   "cell_type": "code",
   "execution_count": null,
   "metadata": {},
   "outputs": [],
   "source": [
    "#| hide\n",
    "from hungarian_ocr.core import *"
   ]
  },
  {
   "cell_type": "markdown",
   "metadata": {},
   "source": [
    "# Hungarian Medical Document Translator\n",
    "\n",
    "> A privacy-focused tool designed for translating Hungarian medical documents to English, with emphasis on supporting transnational caregiving.\n",
    "\n",
    "## Overview\n",
    "\n",
    "This project helps families coordinate care across language barriers, with a focus on medical documentation. While optimized for medical use cases, the tool can handle general Hungarian-to-English document translation. It provides:\n",
    "\n",
    "- Secure document processing and OCR\n",
    "- Privacy-preserving translation\n",
    "- Side-by-side view of original and translated text\n",
    "\n",
    "Future development will include medical terminology optimization and caregiver collaboration features."
   ]
  },
  {
   "cell_type": "markdown",
   "metadata": {},
   "source": [
    "## Installation\n",
    "\n",
    "```bash\n",
    "git clone https://github.com/your-username/hungarian-medical-translator \n",
    "\n",
    "cd hungarian-medical-translator \n",
    "\n",
    "pip install -e \".[dev]\"\n",
    "```"
   ]
  },
  {
   "cell_type": "code",
   "execution_count": null,
   "metadata": {},
   "outputs": [],
   "source": []
  },
  {
   "cell_type": "markdown",
   "metadata": {},
   "source": [
    "## Useage\n",
    "\n",
    "Basic example of loading and processing a document will be added as functionality is developed."
   ]
  }
 ],
 "metadata": {
  "kernelspec": {
   "display_name": "python3",
   "language": "python",
   "name": "python3"
  }
 },
 "nbformat": 4,
 "nbformat_minor": 4
}
